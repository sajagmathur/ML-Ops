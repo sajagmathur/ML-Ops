{
 "cells": [
  {
   "cell_type": "code",
   "execution_count": 1,
   "id": "2322d951",
   "metadata": {},
   "outputs": [],
   "source": [
    "#import necessary libraries\n",
    "\n",
    "import numpy as np\n",
    "import pandas as pd\n",
    "import json\n",
    "from sklearn.model_selection import train_test_split\n",
    "from sklearn.linear_model import LinearRegression\n",
    "from sklearn.metrics import mean_absolute_error, mean_squared_error, r2_score\n",
    "import mlflow\n",
    "import mlflow.sklearn\n"
   ]
  },
  {
   "cell_type": "code",
   "execution_count": 2,
   "id": "55153ce7",
   "metadata": {},
   "outputs": [],
   "source": [
    "import mlflow\n",
    "import pandas as pd\n",
    "from sklearn.model_selection import train_test_split\n",
    "import model_pipeline as pipeline"
   ]
  },
  {
   "cell_type": "code",
   "execution_count": 3,
   "id": "4455d5be",
   "metadata": {},
   "outputs": [
    {
     "name": "stdout",
     "output_type": "stream",
     "text": [
      "Requirement already satisfied: mlflow in c:\\users\\sajag\\anaconda3\\lib\\site-packages (3.1.1)\n",
      "Requirement already satisfied: mlflow-skinny==3.1.1 in c:\\users\\sajag\\anaconda3\\lib\\site-packages (from mlflow) (3.1.1)\n",
      "Requirement already satisfied: Flask<4 in c:\\users\\sajag\\anaconda3\\lib\\site-packages (from mlflow) (3.1.0)\n",
      "Requirement already satisfied: alembic!=1.10.0,<2 in c:\\users\\sajag\\anaconda3\\lib\\site-packages (from mlflow) (1.16.4)\n",
      "Requirement already satisfied: docker<8,>=4.0.0 in c:\\users\\sajag\\anaconda3\\lib\\site-packages (from mlflow) (7.1.0)\n",
      "Requirement already satisfied: graphene<4 in c:\\users\\sajag\\anaconda3\\lib\\site-packages (from mlflow) (3.4.3)\n",
      "Requirement already satisfied: matplotlib<4 in c:\\users\\sajag\\anaconda3\\lib\\site-packages (from mlflow) (3.10.0)\n",
      "Requirement already satisfied: numpy<3 in c:\\users\\sajag\\anaconda3\\lib\\site-packages (from mlflow) (2.1.3)\n",
      "Requirement already satisfied: pandas<3 in c:\\users\\sajag\\anaconda3\\lib\\site-packages (from mlflow) (2.2.3)\n",
      "Requirement already satisfied: pyarrow<21,>=4.0.0 in c:\\users\\sajag\\anaconda3\\lib\\site-packages (from mlflow) (19.0.0)\n",
      "Requirement already satisfied: scikit-learn<2 in c:\\users\\sajag\\anaconda3\\lib\\site-packages (from mlflow) (1.6.1)\n",
      "Requirement already satisfied: scipy<2 in c:\\users\\sajag\\anaconda3\\lib\\site-packages (from mlflow) (1.15.3)\n",
      "Requirement already satisfied: sqlalchemy<3,>=1.4.0 in c:\\users\\sajag\\anaconda3\\lib\\site-packages (from mlflow) (2.0.39)\n",
      "Requirement already satisfied: waitress<4 in c:\\users\\sajag\\anaconda3\\lib\\site-packages (from mlflow) (3.0.2)\n",
      "Requirement already satisfied: cachetools<7,>=5.0.0 in c:\\users\\sajag\\anaconda3\\lib\\site-packages (from mlflow-skinny==3.1.1->mlflow) (5.5.1)\n",
      "Requirement already satisfied: click<9,>=7.0 in c:\\users\\sajag\\anaconda3\\lib\\site-packages (from mlflow-skinny==3.1.1->mlflow) (8.1.8)\n",
      "Requirement already satisfied: cloudpickle<4 in c:\\users\\sajag\\anaconda3\\lib\\site-packages (from mlflow-skinny==3.1.1->mlflow) (3.0.0)\n",
      "Requirement already satisfied: databricks-sdk<1,>=0.20.0 in c:\\users\\sajag\\anaconda3\\lib\\site-packages (from mlflow-skinny==3.1.1->mlflow) (0.59.0)\n",
      "Requirement already satisfied: fastapi<1 in c:\\users\\sajag\\anaconda3\\lib\\site-packages (from mlflow-skinny==3.1.1->mlflow) (0.116.1)\n",
      "Requirement already satisfied: gitpython<4,>=3.1.9 in c:\\users\\sajag\\anaconda3\\lib\\site-packages (from mlflow-skinny==3.1.1->mlflow) (3.1.43)\n",
      "Requirement already satisfied: importlib_metadata!=4.7.0,<9,>=3.7.0 in c:\\users\\sajag\\anaconda3\\lib\\site-packages (from mlflow-skinny==3.1.1->mlflow) (8.5.0)\n",
      "Requirement already satisfied: opentelemetry-api<3,>=1.9.0 in c:\\users\\sajag\\anaconda3\\lib\\site-packages (from mlflow-skinny==3.1.1->mlflow) (1.35.0)\n",
      "Requirement already satisfied: opentelemetry-sdk<3,>=1.9.0 in c:\\users\\sajag\\anaconda3\\lib\\site-packages (from mlflow-skinny==3.1.1->mlflow) (1.35.0)\n",
      "Requirement already satisfied: packaging<26 in c:\\users\\sajag\\anaconda3\\lib\\site-packages (from mlflow-skinny==3.1.1->mlflow) (24.2)\n",
      "Requirement already satisfied: protobuf<7,>=3.12.0 in c:\\users\\sajag\\anaconda3\\lib\\site-packages (from mlflow-skinny==3.1.1->mlflow) (5.29.3)\n",
      "Requirement already satisfied: pydantic<3,>=1.10.8 in c:\\users\\sajag\\anaconda3\\lib\\site-packages (from mlflow-skinny==3.1.1->mlflow) (2.10.3)\n",
      "Requirement already satisfied: pyyaml<7,>=5.1 in c:\\users\\sajag\\anaconda3\\lib\\site-packages (from mlflow-skinny==3.1.1->mlflow) (6.0.2)\n",
      "Requirement already satisfied: requests<3,>=2.17.3 in c:\\users\\sajag\\anaconda3\\lib\\site-packages (from mlflow-skinny==3.1.1->mlflow) (2.32.3)\n",
      "Requirement already satisfied: sqlparse<1,>=0.4.0 in c:\\users\\sajag\\anaconda3\\lib\\site-packages (from mlflow-skinny==3.1.1->mlflow) (0.5.3)\n",
      "Requirement already satisfied: typing-extensions<5,>=4.0.0 in c:\\users\\sajag\\anaconda3\\lib\\site-packages (from mlflow-skinny==3.1.1->mlflow) (4.12.2)\n",
      "Requirement already satisfied: uvicorn<1 in c:\\users\\sajag\\anaconda3\\lib\\site-packages (from mlflow-skinny==3.1.1->mlflow) (0.35.0)\n",
      "Requirement already satisfied: Mako in c:\\users\\sajag\\anaconda3\\lib\\site-packages (from alembic!=1.10.0,<2->mlflow) (1.3.10)\n",
      "Requirement already satisfied: colorama in c:\\users\\sajag\\anaconda3\\lib\\site-packages (from click<9,>=7.0->mlflow-skinny==3.1.1->mlflow) (0.4.6)\n",
      "Requirement already satisfied: google-auth~=2.0 in c:\\users\\sajag\\anaconda3\\lib\\site-packages (from databricks-sdk<1,>=0.20.0->mlflow-skinny==3.1.1->mlflow) (2.40.3)\n",
      "Requirement already satisfied: pywin32>=304 in c:\\users\\sajag\\anaconda3\\lib\\site-packages (from docker<8,>=4.0.0->mlflow) (308)\n",
      "Requirement already satisfied: urllib3>=1.26.0 in c:\\users\\sajag\\anaconda3\\lib\\site-packages (from docker<8,>=4.0.0->mlflow) (2.3.0)\n",
      "Requirement already satisfied: starlette<0.48.0,>=0.40.0 in c:\\users\\sajag\\anaconda3\\lib\\site-packages (from fastapi<1->mlflow-skinny==3.1.1->mlflow) (0.47.1)\n",
      "Requirement already satisfied: Werkzeug>=3.1 in c:\\users\\sajag\\anaconda3\\lib\\site-packages (from Flask<4->mlflow) (3.1.3)\n",
      "Requirement already satisfied: Jinja2>=3.1.2 in c:\\users\\sajag\\anaconda3\\lib\\site-packages (from Flask<4->mlflow) (3.1.6)\n",
      "Requirement already satisfied: itsdangerous>=2.2 in c:\\users\\sajag\\anaconda3\\lib\\site-packages (from Flask<4->mlflow) (2.2.0)\n",
      "Requirement already satisfied: blinker>=1.9 in c:\\users\\sajag\\anaconda3\\lib\\site-packages (from Flask<4->mlflow) (1.9.0)\n",
      "Requirement already satisfied: gitdb<5,>=4.0.1 in c:\\users\\sajag\\anaconda3\\lib\\site-packages (from gitpython<4,>=3.1.9->mlflow-skinny==3.1.1->mlflow) (4.0.7)\n",
      "Requirement already satisfied: smmap<5,>=3.0.1 in c:\\users\\sajag\\anaconda3\\lib\\site-packages (from gitdb<5,>=4.0.1->gitpython<4,>=3.1.9->mlflow-skinny==3.1.1->mlflow) (4.0.0)\n",
      "Requirement already satisfied: pyasn1-modules>=0.2.1 in c:\\users\\sajag\\anaconda3\\lib\\site-packages (from google-auth~=2.0->databricks-sdk<1,>=0.20.0->mlflow-skinny==3.1.1->mlflow) (0.2.8)\n",
      "Requirement already satisfied: rsa<5,>=3.1.4 in c:\\users\\sajag\\anaconda3\\lib\\site-packages (from google-auth~=2.0->databricks-sdk<1,>=0.20.0->mlflow-skinny==3.1.1->mlflow) (4.9.1)\n",
      "Requirement already satisfied: graphql-core<3.3,>=3.1 in c:\\users\\sajag\\anaconda3\\lib\\site-packages (from graphene<4->mlflow) (3.2.6)\n",
      "Requirement already satisfied: graphql-relay<3.3,>=3.1 in c:\\users\\sajag\\anaconda3\\lib\\site-packages (from graphene<4->mlflow) (3.2.0)\n",
      "Requirement already satisfied: python-dateutil<3,>=2.7.0 in c:\\users\\sajag\\anaconda3\\lib\\site-packages (from graphene<4->mlflow) (2.9.0.post0)\n",
      "Requirement already satisfied: zipp>=3.20 in c:\\users\\sajag\\anaconda3\\lib\\site-packages (from importlib_metadata!=4.7.0,<9,>=3.7.0->mlflow-skinny==3.1.1->mlflow) (3.21.0)\n",
      "Requirement already satisfied: contourpy>=1.0.1 in c:\\users\\sajag\\anaconda3\\lib\\site-packages (from matplotlib<4->mlflow) (1.3.1)\n",
      "Requirement already satisfied: cycler>=0.10 in c:\\users\\sajag\\anaconda3\\lib\\site-packages (from matplotlib<4->mlflow) (0.11.0)\n",
      "Requirement already satisfied: fonttools>=4.22.0 in c:\\users\\sajag\\anaconda3\\lib\\site-packages (from matplotlib<4->mlflow) (4.55.3)\n",
      "Requirement already satisfied: kiwisolver>=1.3.1 in c:\\users\\sajag\\anaconda3\\lib\\site-packages (from matplotlib<4->mlflow) (1.4.8)\n",
      "Requirement already satisfied: pillow>=8 in c:\\users\\sajag\\anaconda3\\lib\\site-packages (from matplotlib<4->mlflow) (11.1.0)\n",
      "Requirement already satisfied: pyparsing>=2.3.1 in c:\\users\\sajag\\anaconda3\\lib\\site-packages (from matplotlib<4->mlflow) (3.2.0)\n",
      "Requirement already satisfied: opentelemetry-semantic-conventions==0.56b0 in c:\\users\\sajag\\anaconda3\\lib\\site-packages (from opentelemetry-sdk<3,>=1.9.0->mlflow-skinny==3.1.1->mlflow) (0.56b0)\n",
      "Requirement already satisfied: pytz>=2020.1 in c:\\users\\sajag\\anaconda3\\lib\\site-packages (from pandas<3->mlflow) (2024.1)\n",
      "Requirement already satisfied: tzdata>=2022.7 in c:\\users\\sajag\\anaconda3\\lib\\site-packages (from pandas<3->mlflow) (2025.2)\n",
      "Requirement already satisfied: annotated-types>=0.6.0 in c:\\users\\sajag\\anaconda3\\lib\\site-packages (from pydantic<3,>=1.10.8->mlflow-skinny==3.1.1->mlflow) (0.6.0)\n",
      "Requirement already satisfied: pydantic-core==2.27.1 in c:\\users\\sajag\\anaconda3\\lib\\site-packages (from pydantic<3,>=1.10.8->mlflow-skinny==3.1.1->mlflow) (2.27.1)\n",
      "Requirement already satisfied: six>=1.5 in c:\\users\\sajag\\anaconda3\\lib\\site-packages (from python-dateutil<3,>=2.7.0->graphene<4->mlflow) (1.17.0)\n",
      "Requirement already satisfied: charset-normalizer<4,>=2 in c:\\users\\sajag\\anaconda3\\lib\\site-packages (from requests<3,>=2.17.3->mlflow-skinny==3.1.1->mlflow) (3.3.2)\n",
      "Requirement already satisfied: idna<4,>=2.5 in c:\\users\\sajag\\anaconda3\\lib\\site-packages (from requests<3,>=2.17.3->mlflow-skinny==3.1.1->mlflow) (3.7)\n",
      "Requirement already satisfied: certifi>=2017.4.17 in c:\\users\\sajag\\anaconda3\\lib\\site-packages (from requests<3,>=2.17.3->mlflow-skinny==3.1.1->mlflow) (2025.4.26)\n",
      "Requirement already satisfied: pyasn1>=0.1.3 in c:\\users\\sajag\\anaconda3\\lib\\site-packages (from rsa<5,>=3.1.4->google-auth~=2.0->databricks-sdk<1,>=0.20.0->mlflow-skinny==3.1.1->mlflow) (0.4.8)\n",
      "Requirement already satisfied: joblib>=1.2.0 in c:\\users\\sajag\\anaconda3\\lib\\site-packages (from scikit-learn<2->mlflow) (1.4.2)\n",
      "Requirement already satisfied: threadpoolctl>=3.1.0 in c:\\users\\sajag\\anaconda3\\lib\\site-packages (from scikit-learn<2->mlflow) (3.5.0)\n",
      "Requirement already satisfied: greenlet!=0.4.17 in c:\\users\\sajag\\anaconda3\\lib\\site-packages (from sqlalchemy<3,>=1.4.0->mlflow) (3.1.1)\n",
      "Requirement already satisfied: anyio<5,>=3.6.2 in c:\\users\\sajag\\anaconda3\\lib\\site-packages (from starlette<0.48.0,>=0.40.0->fastapi<1->mlflow-skinny==3.1.1->mlflow) (4.7.0)\n",
      "Requirement already satisfied: sniffio>=1.1 in c:\\users\\sajag\\anaconda3\\lib\\site-packages (from anyio<5,>=3.6.2->starlette<0.48.0,>=0.40.0->fastapi<1->mlflow-skinny==3.1.1->mlflow) (1.3.0)\n",
      "Requirement already satisfied: h11>=0.8 in c:\\users\\sajag\\anaconda3\\lib\\site-packages (from uvicorn<1->mlflow-skinny==3.1.1->mlflow) (0.16.0)\n",
      "Requirement already satisfied: MarkupSafe>=2.0 in c:\\users\\sajag\\anaconda3\\lib\\site-packages (from Jinja2>=3.1.2->Flask<4->mlflow) (3.0.2)\n",
      "Note: you may need to restart the kernel to use updated packages.\n"
     ]
    }
   ],
   "source": [
    "pip install mlflow"
   ]
  },
  {
   "cell_type": "code",
   "execution_count": 4,
   "id": "d0c95f1f",
   "metadata": {},
   "outputs": [
    {
     "name": "stdout",
     "output_type": "stream",
     "text": [
      "MLflow server started in the background.\n"
     ]
    }
   ],
   "source": [
    "import subprocess\n",
    "\n",
    "# Start MLflow server in the background\n",
    "process = subprocess.Popen(\n",
    "    [\"mlflow\", \"server\", \"--host\", \"127.0.0.1\", \"--port\", \"5000\"]\n",
    ")\n",
    "\n",
    "print(\"MLflow server started in the background.\")"
   ]
  },
  {
   "cell_type": "code",
   "execution_count": 5,
   "id": "b7514d68",
   "metadata": {},
   "outputs": [
    {
     "name": "stdout",
     "output_type": "stream",
     "text": [
      "MLflow UI opened in the browser.\n"
     ]
    }
   ],
   "source": [
    "#open mlflow ui in browser\n",
    "import webbrowser\n",
    "webbrowser.open(\"http://127.0.0.1:5000\")\n",
    "\n",
    "print(\"MLflow UI opened in the browser.\")"
   ]
  },
  {
   "cell_type": "code",
   "execution_count": 6,
   "id": "c21974ab",
   "metadata": {},
   "outputs": [
    {
     "data": {
      "text/plain": [
       "<Experiment: artifact_location='mlflow-artifacts:/999806314241357290', creation_time=1752998011239, experiment_id='999806314241357290', last_update_time=1752998011239, lifecycle_stage='active', name='Final_Experiment', tags={}>"
      ]
     },
     "execution_count": 6,
     "metadata": {},
     "output_type": "execute_result"
    }
   ],
   "source": [
    "    # Start MLflow tracking]\n",
    "mlflow.set_tracking_uri(\"http://127.0.0.1:5000\")\n",
    "mlflow.set_experiment(\"Final_Experiment\")"
   ]
  },
  {
   "cell_type": "markdown",
   "id": "e833d57e",
   "metadata": {},
   "source": [
    "Data extraction:"
   ]
  },
  {
   "cell_type": "code",
   "execution_count": 7,
   "id": "2320a3f8",
   "metadata": {},
   "outputs": [],
   "source": [
    "df = pd.read_csv(\"ice_cream.csv\")\n",
    "X = df[['temp']]\n",
    "y = df.iloc[:, -1]"
   ]
  },
  {
   "cell_type": "markdown",
   "id": "da2b9995",
   "metadata": {},
   "source": [
    "Split data into train/test\n"
   ]
  },
  {
   "cell_type": "code",
   "execution_count": 8,
   "id": "2b58f432",
   "metadata": {},
   "outputs": [],
   "source": [
    "X_train, X_test, y_train, y_test = train_test_split(X, y, test_size=0.2, random_state=1)\n"
   ]
  },
  {
   "cell_type": "markdown",
   "id": "29a08aaa",
   "metadata": {},
   "source": [
    "Train Linear regression model\n"
   ]
  },
  {
   "cell_type": "code",
   "execution_count": 9,
   "id": "ed645f8d",
   "metadata": {},
   "outputs": [],
   "source": [
    "model = pipeline.model_train(X_train, y_train)\n"
   ]
  },
  {
   "cell_type": "markdown",
   "id": "e6c80274",
   "metadata": {},
   "source": [
    "Generate Prediction\n"
   ]
  },
  {
   "cell_type": "code",
   "execution_count": 10,
   "id": "afa9e96a",
   "metadata": {},
   "outputs": [],
   "source": [
    "y_train_pred, y_test_pred = pipeline.predict(model, X_train, X_test)\n"
   ]
  },
  {
   "cell_type": "markdown",
   "id": "957627ce",
   "metadata": {},
   "source": [
    "Evaluate Model\n"
   ]
  },
  {
   "cell_type": "code",
   "execution_count": 11,
   "id": "0d6072b9",
   "metadata": {},
   "outputs": [],
   "source": [
    "mae, mse, rmse, r2 = pipeline.evaluate(y_test, y_test_pred)\n"
   ]
  },
  {
   "cell_type": "markdown",
   "id": "0cbac0f0",
   "metadata": {},
   "source": [
    "Log model artifacts\n"
   ]
  },
  {
   "cell_type": "code",
   "execution_count": 12,
   "id": "445736eb",
   "metadata": {},
   "outputs": [],
   "source": [
    "pipeline.log_model(mae, mse, rmse, r2)\n"
   ]
  },
  {
   "cell_type": "markdown",
   "id": "52db6db3",
   "metadata": {},
   "source": [
    "Register Model Version into Model Registry"
   ]
  },
  {
   "cell_type": "code",
   "execution_count": 13,
   "id": "51aa1b3d",
   "metadata": {},
   "outputs": [
    {
     "name": "stderr",
     "output_type": "stream",
     "text": [
      "2025/07/20 14:14:52 WARNING mlflow.models.model: `artifact_path` is deprecated. Please use `name` instead.\n",
      "2025/07/20 14:15:05 WARNING mlflow.models.model: Model logged without a signature and input example. Please set `input_example` parameter when logging the model to auto infer the model signature.\n",
      "2025/07/20 14:15:05 WARNING mlflow.models.model: Model logged without a signature and input example. Please set `input_example` parameter when logging the model to auto infer the model signature.\n",
      "Registered model 'ice cream' already exists. Creating a new version of this model...\n",
      "2025/07/20 14:15:05 INFO mlflow.store.model_registry.abstract_store: Waiting up to 300 seconds for model version to finish creation. Model name: ice cream, version 6\n",
      "Registered model 'ice cream' already exists. Creating a new version of this model...\n",
      "2025/07/20 14:15:05 INFO mlflow.store.model_registry.abstract_store: Waiting up to 300 seconds for model version to finish creation. Model name: ice cream, version 6\n",
      "Created version '6' of model 'ice cream'.\n",
      "Created version '6' of model 'ice cream'.\n"
     ]
    }
   ],
   "source": [
    "pipeline.register_model(model)"
   ]
  },
  {
   "cell_type": "code",
   "execution_count": 14,
   "id": "22814d99",
   "metadata": {},
   "outputs": [
    {
     "name": "stderr",
     "output_type": "stream",
     "text": [
      "2025/07/20 14:15:06 WARNING mlflow.models.model: `artifact_path` is deprecated. Please use `name` instead.\n"
     ]
    },
    {
     "name": "stdout",
     "output_type": "stream",
     "text": [
      "🏃 View run clumsy-yak-461 at: http://127.0.0.1:5000/#/experiments/999806314241357290/runs/bebaa5de7a634366a364f4494b650b01\n",
      "🧪 View experiment at: http://127.0.0.1:5000/#/experiments/999806314241357290\n",
      "🏃 View run big-croc-381 at: http://127.0.0.1:5000/#/experiments/999806314241357290/runs/8e54669fabe9437b866ec53e2c7365e0\n",
      "🧪 View experiment at: http://127.0.0.1:5000/#/experiments/999806314241357290\n"
     ]
    },
    {
     "name": "stderr",
     "output_type": "stream",
     "text": [
      "2025/07/20 14:15:11 WARNING mlflow.models.model: Model logged without a signature and input example. Please set `input_example` parameter when logging the model to auto infer the model signature.\n"
     ]
    },
    {
     "name": "stdout",
     "output_type": "stream",
     "text": [
      "🏃 View run popular-asp-56 at: http://127.0.0.1:5000/#/experiments/999806314241357290/runs/b5d30436265a4530b6b89bd1df3fb2f2\n",
      "🧪 View experiment at: http://127.0.0.1:5000/#/experiments/999806314241357290\n"
     ]
    }
   ],
   "source": [
    "#another way to log model and metrics using mlflow directly\n",
    "\n",
    "\n",
    "import mlflow\n",
    "import mlflow.sklearn\n",
    "from sklearn.linear_model import LinearRegression\n",
    "import mlflow\n",
    "\n",
    "if mlflow.active_run():\n",
    "    mlflow.end_run()\n",
    "\n",
    "with mlflow.start_run():\n",
    "    # your MLflow logging code here\n",
    "    mlflow.set_experiment(\"Final_Experiment\")\n",
    "\n",
    "with mlflow.start_run():\n",
    "    model = LinearRegression()\n",
    "    model.fit(X_train, y_train)\n",
    "    mlflow.sklearn.log_model(model, \"model\")\n",
    "    # Example metric logging\n",
    "    y_pred = model.predict(X_test)\n",
    "    mae = mean_absolute_error(y_test, y_pred)\n",
    "    mse = mean_squared_error(y_test, y_pred)\n",
    "    r2 = r2_score(y_test, y_pred)\n",
    "    mlflow.log_metric(\"mae\", mae)\n",
    "    mlflow.log_metric(\"mse\", mse)\n",
    "    mlflow.log_metric(\"r2\", r2)"
   ]
  },
  {
   "cell_type": "code",
   "execution_count": 15,
   "id": "80fed090",
   "metadata": {},
   "outputs": [
    {
     "name": "stdout",
     "output_type": "stream",
     "text": [
      "mae: 5.373646510078312, mse: 40.18083362117053, rmse : 6.338835352110869, r2: 0.9962588161999711\n"
     ]
    }
   ],
   "source": [
    "#train another experiment\n",
    "\n",
    "import numpy as np\n",
    "import pandas as pd\n",
    "import json\n",
    "from sklearn.model_selection import train_test_split\n",
    "from sklearn.linear_model import LinearRegression\n",
    "from sklearn.metrics import mean_absolute_error, mean_squared_error, r2_score\n",
    "import mlflow\n",
    "import mlflow.sklearn\n",
    "\n",
    "def load_data():\n",
    "    df = pd.read_csv(\"ice_cream.csv\")\n",
    "    X = df[['temp']]\n",
    "    y = df.iloc[:, -1]\n",
    "    return X, y\n",
    "\n",
    "def split_data(X, y):\n",
    "    X_train, X_test, y_train, y_test = train_test_split(X, y, test_size=0.5, random_state=6)\n",
    "    return X_train, X_test, y_train, y_test\n",
    "\n",
    "#pick specific algorithm to train model \n",
    "def model_train(X_train, y_train):\n",
    "    model = LinearRegression()\n",
    "    model.fit(X_train, y_train)\n",
    "    return model\n",
    "\n",
    "def predict(model, X_train, X_test):\n",
    "    y_train_pred = model.predict(X_train)\n",
    "    y_test_pred = model.predict(X_test)\n",
    "    return y_train_pred, y_test_pred\n",
    "\n",
    "def evaluate(y_test, y_test_pred):\n",
    "    mae = mean_absolute_error(y_test, y_test_pred)\n",
    "    mse = mean_squared_error(y_test, y_test_pred)\n",
    "    rmse = np.sqrt(mse)\n",
    "    r2 = r2_score(y_test, y_test_pred)\n",
    "    return mae, mse, rmse, r2\n",
    "# Log the model and evaluation metrics to mlflow \n",
    "def log_model(mae, mse, rmse, r2):\n",
    "    # Log parameters and metrics\n",
    "    mlflow.log_param(\"test_size\", 0.7)\n",
    "    mlflow.log_param(\"random_state\", 8)\n",
    "    mlflow.log_metric(\"MAE\", mae)\n",
    "    mlflow.log_metric(\"MSE\", mse)\n",
    "    mlflow.log_metric(\"RMSE\", rmse)\n",
    "    mlflow.log_metric(\"R2\", r2)\n",
    "\n",
    "    eval_results = {\n",
    "        \"MAE\": mae,\n",
    "        \"MSE\": mse,\n",
    "        \"RMSE\": rmse,\n",
    "        \"R2\": r2,\n",
    "    }\n",
    "\n",
    "    with open(\"eval.json\", \"w\") as f:\n",
    "        json.dump(eval_results, f)\n",
    "\n",
    "    mlflow.log_artifact(\"eval.json\", artifact_path=\"eval\")\n",
    "#register the model in mlflow \n",
    "def register_model(model):\n",
    "    # Log the model\n",
    "    mlflow.sklearn.log_model(registered_model_name=\"ice cream second\",\n",
    "                             sk_model=model,\n",
    "                             artifact_path=\"ice_cream\")\n",
    "\n",
    "if __name__ == \"__main__\":\n",
    "    X, y = load_data()\n",
    "    X_train, X_test, y_train, y_test = split_data(X, y)\n",
    "    model = model_train(X_train, y_train)\n",
    "    y_train_pred, y_test_pred = predict(model, X_train, X_test)\n",
    "    mae, mse, rmse, r2 = evaluate(y_test, y_test_pred)\n",
    "    print(f\"mae: {mae}, mse: {mse}, rmse : {rmse}, r2: {r2}\")"
   ]
  },
  {
   "cell_type": "code",
   "execution_count": 16,
   "id": "e040555e",
   "metadata": {},
   "outputs": [],
   "source": [
    "pipeline.log_model(mae, mse, rmse, r2)"
   ]
  },
  {
   "cell_type": "code",
   "execution_count": 17,
   "id": "4cba8d92",
   "metadata": {},
   "outputs": [
    {
     "name": "stderr",
     "output_type": "stream",
     "text": [
      "2025/07/20 14:15:12 WARNING mlflow.models.model: `artifact_path` is deprecated. Please use `name` instead.\n",
      "2025/07/20 14:15:17 WARNING mlflow.models.model: Model logged without a signature and input example. Please set `input_example` parameter when logging the model to auto infer the model signature.\n",
      "2025/07/20 14:15:17 WARNING mlflow.models.model: Model logged without a signature and input example. Please set `input_example` parameter when logging the model to auto infer the model signature.\n",
      "Registered model 'ice cream' already exists. Creating a new version of this model...\n",
      "Registered model 'ice cream' already exists. Creating a new version of this model...\n",
      "2025/07/20 14:15:17 INFO mlflow.store.model_registry.abstract_store: Waiting up to 300 seconds for model version to finish creation. Model name: ice cream, version 7\n",
      "2025/07/20 14:15:17 INFO mlflow.store.model_registry.abstract_store: Waiting up to 300 seconds for model version to finish creation. Model name: ice cream, version 7\n",
      "Created version '7' of model 'ice cream'.\n",
      "Created version '7' of model 'ice cream'.\n"
     ]
    }
   ],
   "source": [
    "pipeline.register_model(model)"
   ]
  },
  {
   "cell_type": "code",
   "execution_count": 18,
   "id": "38978de7",
   "metadata": {},
   "outputs": [
    {
     "name": "stderr",
     "output_type": "stream",
     "text": [
      "2025/07/20 14:15:18 INFO mlflow.tracking.fluent: Autologging successfully enabled for sklearn.\n"
     ]
    }
   ],
   "source": [
    "mlflow.autolog()"
   ]
  },
  {
   "cell_type": "code",
   "execution_count": 19,
   "id": "2bacbcde",
   "metadata": {},
   "outputs": [
    {
     "name": "stdout",
     "output_type": "stream",
     "text": [
      "🏃 View run dapper-bat-709 at: http://127.0.0.1:5000/#/experiments/999806314241357290/runs/c6c12aba303441b48fa24f0d18663fa8\n",
      "🧪 View experiment at: http://127.0.0.1:5000/#/experiments/999806314241357290\n"
     ]
    }
   ],
   "source": [
    "mlflow.end_run()"
   ]
  },
  {
   "cell_type": "code",
   "execution_count": 20,
   "id": "6ab2f223",
   "metadata": {},
   "outputs": [
    {
     "name": "stdout",
     "output_type": "stream",
     "text": [
      "MLflow server stopped.\n"
     ]
    }
   ],
   "source": [
    "# Terminate MLflow server process if started via subprocess.Popen\n",
    "import sys\n",
    "if 'process' in globals():\n",
    "    try:\n",
    "        process.terminate()\n",
    "        process.wait()\n",
    "        print(\"MLflow server stopped.\")\n",
    "    except Exception as e:\n",
    "        print(\"Could not terminate MLflow server process. Error:\", e)\n",
    "else:\n",
    "    print(\"No MLflow server process found. If you started the server in another cell or session, restart the kernel or stop it from Task Manager.\")"
   ]
  },
  {
   "cell_type": "code",
   "execution_count": null,
   "id": "9fc999c3",
   "metadata": {},
   "outputs": [
    {
     "ename": "SyntaxError",
     "evalue": "invalid syntax (3421725314.py, line 1)",
     "output_type": "error",
     "traceback": [
      "\u001b[1;36m  Cell \u001b[1;32mIn[1], line 1\u001b[1;36m\u001b[0m\n\u001b[1;33m    for pid in $(netstat -ano | grep :5000 | awk '{print $5}' | sort | uniq); do\u001b[0m\n\u001b[1;37m               ^\u001b[0m\n\u001b[1;31mSyntaxError\u001b[0m\u001b[1;31m:\u001b[0m invalid syntax\n"
     ]
    }
   ],
   "source": [
    "## Kill using gitbash\n",
    "# for pid in $(netstat -ano | grep :5000 | awk '{print $5}' | sort | uniq); do\n",
    "#   taskkill //PID $pid //F\n",
    "# done"
   ]
  },
  {
   "cell_type": "code",
   "execution_count": null,
   "id": "e6fb43ed",
   "metadata": {},
   "outputs": [],
   "source": []
  }
 ],
 "metadata": {
  "kernelspec": {
   "display_name": "base",
   "language": "python",
   "name": "python3"
  },
  "language_info": {
   "codemirror_mode": {
    "name": "ipython",
    "version": 3
   },
   "file_extension": ".py",
   "mimetype": "text/x-python",
   "name": "python",
   "nbconvert_exporter": "python",
   "pygments_lexer": "ipython3",
   "version": "3.13.5"
  }
 },
 "nbformat": 4,
 "nbformat_minor": 5
}
