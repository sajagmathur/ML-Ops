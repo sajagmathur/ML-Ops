{
 "cells": [
  {
   "cell_type": "code",
   "execution_count": 1,
   "id": "bd867d4c-6c4c-470b-807a-93c79f039cd6",
   "metadata": {},
   "outputs": [
    {
     "name": "stdout",
     "output_type": "stream",
     "text": [
      "Collecting langchain_google_genai\n",
      "  Downloading langchain_google_genai-2.1.7-py3-none-any.whl.metadata (7.0 kB)\n",
      "Collecting langchain_chroma\n",
      "  Downloading langchain_chroma-0.2.4-py3-none-any.whl.metadata (1.1 kB)\n",
      "Collecting filetype<2.0.0,>=1.2.0 (from langchain_google_genai)\n",
      "  Downloading filetype-1.2.0-py2.py3-none-any.whl.metadata (6.5 kB)\n",
      "Collecting google-ai-generativelanguage<0.7.0,>=0.6.18 (from langchain_google_genai)\n",
      "  Downloading google_ai_generativelanguage-0.6.18-py3-none-any.whl.metadata (9.8 kB)\n",
      "Collecting langchain-core<0.4.0,>=0.3.68 (from langchain_google_genai)\n",
      "  Downloading langchain_core-0.3.68-py3-none-any.whl.metadata (5.8 kB)\n",
      "Requirement already satisfied: pydantic<3,>=2 in c:\\users\\sajag177350\\appdata\\local\\anaconda3\\lib\\site-packages (from langchain_google_genai) (2.8.2)\n",
      "Requirement already satisfied: numpy>=1.26.0 in c:\\users\\sajag177350\\appdata\\local\\anaconda3\\lib\\site-packages (from langchain_chroma) (1.26.4)\n",
      "Collecting chromadb>=1.0.9 (from langchain_chroma)\n",
      "  Downloading chromadb-1.0.15-cp39-abi3-win_amd64.whl.metadata (7.1 kB)\n",
      "Collecting build>=1.0.3 (from chromadb>=1.0.9->langchain_chroma)\n",
      "  Downloading build-1.2.2.post1-py3-none-any.whl.metadata (6.5 kB)\n",
      "Collecting pybase64>=1.4.1 (from chromadb>=1.0.9->langchain_chroma)\n",
      "  Downloading pybase64-1.4.1-cp312-cp312-win_amd64.whl.metadata (8.7 kB)\n",
      "Collecting uvicorn>=0.18.3 (from uvicorn[standard]>=0.18.3->chromadb>=1.0.9->langchain_chroma)\n",
      "  Downloading uvicorn-0.35.0-py3-none-any.whl.metadata (6.5 kB)\n",
      "Collecting posthog<6.0.0,>=2.4.0 (from chromadb>=1.0.9->langchain_chroma)\n",
      "  Downloading posthog-5.4.0-py3-none-any.whl.metadata (5.7 kB)\n",
      "Requirement already satisfied: typing-extensions>=4.5.0 in c:\\users\\sajag177350\\appdata\\local\\anaconda3\\lib\\site-packages (from chromadb>=1.0.9->langchain_chroma) (4.11.0)\n",
      "Collecting onnxruntime>=1.14.1 (from chromadb>=1.0.9->langchain_chroma)\n",
      "  Downloading onnxruntime-1.22.1-cp312-cp312-win_amd64.whl.metadata (5.1 kB)\n",
      "Collecting opentelemetry-api>=1.2.0 (from chromadb>=1.0.9->langchain_chroma)\n",
      "  Downloading opentelemetry_api-1.35.0-py3-none-any.whl.metadata (1.5 kB)\n",
      "Collecting opentelemetry-exporter-otlp-proto-grpc>=1.2.0 (from chromadb>=1.0.9->langchain_chroma)\n",
      "  Downloading opentelemetry_exporter_otlp_proto_grpc-1.35.0-py3-none-any.whl.metadata (2.4 kB)\n",
      "Collecting opentelemetry-sdk>=1.2.0 (from chromadb>=1.0.9->langchain_chroma)\n",
      "  Downloading opentelemetry_sdk-1.35.0-py3-none-any.whl.metadata (1.5 kB)\n",
      "Requirement already satisfied: tokenizers>=0.13.2 in c:\\users\\sajag177350\\appdata\\local\\anaconda3\\lib\\site-packages (from chromadb>=1.0.9->langchain_chroma) (0.21.2)\n",
      "Collecting pypika>=0.48.9 (from chromadb>=1.0.9->langchain_chroma)\n",
      "  Downloading PyPika-0.48.9.tar.gz (67 kB)\n",
      "  Installing build dependencies: started\n",
      "  Installing build dependencies: finished with status 'done'\n",
      "  Getting requirements to build wheel: started\n",
      "  Getting requirements to build wheel: finished with status 'done'\n",
      "  Preparing metadata (pyproject.toml): started\n",
      "  Preparing metadata (pyproject.toml): finished with status 'done'\n",
      "Requirement already satisfied: tqdm>=4.65.0 in c:\\users\\sajag177350\\appdata\\local\\anaconda3\\lib\\site-packages (from chromadb>=1.0.9->langchain_chroma) (4.66.5)\n",
      "Requirement already satisfied: overrides>=7.3.1 in c:\\users\\sajag177350\\appdata\\local\\anaconda3\\lib\\site-packages (from chromadb>=1.0.9->langchain_chroma) (7.4.0)\n",
      "Collecting importlib-resources (from chromadb>=1.0.9->langchain_chroma)\n",
      "  Downloading importlib_resources-6.5.2-py3-none-any.whl.metadata (3.9 kB)\n",
      "Requirement already satisfied: grpcio>=1.58.0 in c:\\users\\sajag177350\\appdata\\local\\anaconda3\\lib\\site-packages (from chromadb>=1.0.9->langchain_chroma) (1.73.1)\n",
      "Collecting bcrypt>=4.0.1 (from chromadb>=1.0.9->langchain_chroma)\n",
      "  Downloading bcrypt-4.3.0-cp39-abi3-win_amd64.whl.metadata (10 kB)\n",
      "Collecting typer>=0.9.0 (from chromadb>=1.0.9->langchain_chroma)\n",
      "  Downloading typer-0.16.0-py3-none-any.whl.metadata (15 kB)\n",
      "Collecting kubernetes>=28.1.0 (from chromadb>=1.0.9->langchain_chroma)\n",
      "  Downloading kubernetes-33.1.0-py2.py3-none-any.whl.metadata (1.7 kB)\n",
      "Requirement already satisfied: tenacity>=8.2.3 in c:\\users\\sajag177350\\appdata\\local\\anaconda3\\lib\\site-packages (from chromadb>=1.0.9->langchain_chroma) (8.2.3)\n",
      "Requirement already satisfied: pyyaml>=6.0.0 in c:\\users\\sajag177350\\appdata\\local\\anaconda3\\lib\\site-packages (from chromadb>=1.0.9->langchain_chroma) (6.0.1)\n",
      "Collecting mmh3>=4.0.1 (from chromadb>=1.0.9->langchain_chroma)\n",
      "  Downloading mmh3-5.1.0-cp312-cp312-win_amd64.whl.metadata (16 kB)\n",
      "Collecting orjson>=3.9.12 (from chromadb>=1.0.9->langchain_chroma)\n",
      "  Downloading orjson-3.10.18-cp312-cp312-win_amd64.whl.metadata (43 kB)\n",
      "Requirement already satisfied: httpx>=0.27.0 in c:\\users\\sajag177350\\appdata\\local\\anaconda3\\lib\\site-packages (from chromadb>=1.0.9->langchain_chroma) (0.28.1)\n",
      "Requirement already satisfied: rich>=10.11.0 in c:\\users\\sajag177350\\appdata\\local\\anaconda3\\lib\\site-packages (from chromadb>=1.0.9->langchain_chroma) (13.7.1)\n",
      "Requirement already satisfied: jsonschema>=4.19.0 in c:\\users\\sajag177350\\appdata\\local\\anaconda3\\lib\\site-packages (from chromadb>=1.0.9->langchain_chroma) (4.23.0)\n",
      "Requirement already satisfied: google-api-core!=2.0.*,!=2.1.*,!=2.10.*,!=2.2.*,!=2.3.*,!=2.4.*,!=2.5.*,!=2.6.*,!=2.7.*,!=2.8.*,!=2.9.*,<3.0.0,>=1.34.1 in c:\\users\\sajag177350\\appdata\\local\\anaconda3\\lib\\site-packages (from google-api-core[grpc]!=2.0.*,!=2.1.*,!=2.10.*,!=2.2.*,!=2.3.*,!=2.4.*,!=2.5.*,!=2.6.*,!=2.7.*,!=2.8.*,!=2.9.*,<3.0.0,>=1.34.1->google-ai-generativelanguage<0.7.0,>=0.6.18->langchain_google_genai) (2.24.2)\n",
      "Requirement already satisfied: google-auth!=2.24.0,!=2.25.0,<3.0.0,>=2.14.1 in c:\\users\\sajag177350\\appdata\\local\\anaconda3\\lib\\site-packages (from google-ai-generativelanguage<0.7.0,>=0.6.18->langchain_google_genai) (2.38.0)\n",
      "Requirement already satisfied: proto-plus<2.0.0,>=1.22.3 in c:\\users\\sajag177350\\appdata\\local\\anaconda3\\lib\\site-packages (from google-ai-generativelanguage<0.7.0,>=0.6.18->langchain_google_genai) (1.26.1)\n",
      "Requirement already satisfied: protobuf!=4.21.0,!=4.21.1,!=4.21.2,!=4.21.3,!=4.21.4,!=4.21.5,<7.0.0,>=3.20.2 in c:\\users\\sajag177350\\appdata\\local\\anaconda3\\lib\\site-packages (from google-ai-generativelanguage<0.7.0,>=0.6.18->langchain_google_genai) (5.29.5)\n",
      "Collecting langsmith>=0.3.45 (from langchain-core<0.4.0,>=0.3.68->langchain_google_genai)\n",
      "  Downloading langsmith-0.4.5-py3-none-any.whl.metadata (15 kB)\n",
      "Requirement already satisfied: jsonpatch<2.0,>=1.33 in c:\\users\\sajag177350\\appdata\\local\\anaconda3\\lib\\site-packages (from langchain-core<0.4.0,>=0.3.68->langchain_google_genai) (1.33)\n",
      "Requirement already satisfied: packaging<25,>=23.2 in c:\\users\\sajag177350\\appdata\\local\\anaconda3\\lib\\site-packages (from langchain-core<0.4.0,>=0.3.68->langchain_google_genai) (24.1)\n",
      "Requirement already satisfied: annotated-types>=0.4.0 in c:\\users\\sajag177350\\appdata\\local\\anaconda3\\lib\\site-packages (from pydantic<3,>=2->langchain_google_genai) (0.6.0)\n",
      "Requirement already satisfied: pydantic-core==2.20.1 in c:\\users\\sajag177350\\appdata\\local\\anaconda3\\lib\\site-packages (from pydantic<3,>=2->langchain_google_genai) (2.20.1)\n",
      "Collecting pyproject_hooks (from build>=1.0.3->chromadb>=1.0.9->langchain_chroma)\n",
      "  Downloading pyproject_hooks-1.2.0-py3-none-any.whl.metadata (1.3 kB)\n",
      "Requirement already satisfied: colorama in c:\\users\\sajag177350\\appdata\\local\\anaconda3\\lib\\site-packages (from build>=1.0.3->chromadb>=1.0.9->langchain_chroma) (0.4.6)\n",
      "Requirement already satisfied: googleapis-common-protos<2.0.0,>=1.56.2 in c:\\users\\sajag177350\\appdata\\local\\anaconda3\\lib\\site-packages (from google-api-core!=2.0.*,!=2.1.*,!=2.10.*,!=2.2.*,!=2.3.*,!=2.4.*,!=2.5.*,!=2.6.*,!=2.7.*,!=2.8.*,!=2.9.*,<3.0.0,>=1.34.1->google-api-core[grpc]!=2.0.*,!=2.1.*,!=2.10.*,!=2.2.*,!=2.3.*,!=2.4.*,!=2.5.*,!=2.6.*,!=2.7.*,!=2.8.*,!=2.9.*,<3.0.0,>=1.34.1->google-ai-generativelanguage<0.7.0,>=0.6.18->langchain_google_genai) (1.69.2)\n",
      "Requirement already satisfied: requests<3.0.0,>=2.18.0 in c:\\users\\sajag177350\\appdata\\local\\anaconda3\\lib\\site-packages (from google-api-core!=2.0.*,!=2.1.*,!=2.10.*,!=2.2.*,!=2.3.*,!=2.4.*,!=2.5.*,!=2.6.*,!=2.7.*,!=2.8.*,!=2.9.*,<3.0.0,>=1.34.1->google-api-core[grpc]!=2.0.*,!=2.1.*,!=2.10.*,!=2.2.*,!=2.3.*,!=2.4.*,!=2.5.*,!=2.6.*,!=2.7.*,!=2.8.*,!=2.9.*,<3.0.0,>=1.34.1->google-ai-generativelanguage<0.7.0,>=0.6.18->langchain_google_genai) (2.32.3)\n",
      "Requirement already satisfied: grpcio-status<2.0.dev0,>=1.33.2 in c:\\users\\sajag177350\\appdata\\local\\anaconda3\\lib\\site-packages (from google-api-core[grpc]!=2.0.*,!=2.1.*,!=2.10.*,!=2.2.*,!=2.3.*,!=2.4.*,!=2.5.*,!=2.6.*,!=2.7.*,!=2.8.*,!=2.9.*,<3.0.0,>=1.34.1->google-ai-generativelanguage<0.7.0,>=0.6.18->langchain_google_genai) (1.71.2)\n",
      "Requirement already satisfied: cachetools<6.0,>=2.0.0 in c:\\users\\sajag177350\\appdata\\local\\anaconda3\\lib\\site-packages (from google-auth!=2.24.0,!=2.25.0,<3.0.0,>=2.14.1->google-ai-generativelanguage<0.7.0,>=0.6.18->langchain_google_genai) (5.3.3)\n",
      "Requirement already satisfied: pyasn1-modules>=0.2.1 in c:\\users\\sajag177350\\appdata\\local\\anaconda3\\lib\\site-packages (from google-auth!=2.24.0,!=2.25.0,<3.0.0,>=2.14.1->google-ai-generativelanguage<0.7.0,>=0.6.18->langchain_google_genai) (0.2.8)\n",
      "Requirement already satisfied: rsa<5,>=3.1.4 in c:\\users\\sajag177350\\appdata\\local\\anaconda3\\lib\\site-packages (from google-auth!=2.24.0,!=2.25.0,<3.0.0,>=2.14.1->google-ai-generativelanguage<0.7.0,>=0.6.18->langchain_google_genai) (4.9)\n",
      "Requirement already satisfied: anyio in c:\\users\\sajag177350\\appdata\\local\\anaconda3\\lib\\site-packages (from httpx>=0.27.0->chromadb>=1.0.9->langchain_chroma) (4.9.0)\n",
      "Requirement already satisfied: certifi in c:\\users\\sajag177350\\appdata\\local\\anaconda3\\lib\\site-packages (from httpx>=0.27.0->chromadb>=1.0.9->langchain_chroma) (2024.8.30)\n",
      "Requirement already satisfied: httpcore==1.* in c:\\users\\sajag177350\\appdata\\local\\anaconda3\\lib\\site-packages (from httpx>=0.27.0->chromadb>=1.0.9->langchain_chroma) (1.0.2)\n",
      "Requirement already satisfied: idna in c:\\users\\sajag177350\\appdata\\local\\anaconda3\\lib\\site-packages (from httpx>=0.27.0->chromadb>=1.0.9->langchain_chroma) (3.7)\n",
      "Requirement already satisfied: h11<0.15,>=0.13 in c:\\users\\sajag177350\\appdata\\local\\anaconda3\\lib\\site-packages (from httpcore==1.*->httpx>=0.27.0->chromadb>=1.0.9->langchain_chroma) (0.14.0)\n",
      "Requirement already satisfied: jsonpointer>=1.9 in c:\\users\\sajag177350\\appdata\\local\\anaconda3\\lib\\site-packages (from jsonpatch<2.0,>=1.33->langchain-core<0.4.0,>=0.3.68->langchain_google_genai) (2.1)\n",
      "Requirement already satisfied: attrs>=22.2.0 in c:\\users\\sajag177350\\appdata\\local\\anaconda3\\lib\\site-packages (from jsonschema>=4.19.0->chromadb>=1.0.9->langchain_chroma) (25.3.0)\n",
      "Requirement already satisfied: jsonschema-specifications>=2023.03.6 in c:\\users\\sajag177350\\appdata\\local\\anaconda3\\lib\\site-packages (from jsonschema>=4.19.0->chromadb>=1.0.9->langchain_chroma) (2023.7.1)\n",
      "Requirement already satisfied: referencing>=0.28.4 in c:\\users\\sajag177350\\appdata\\local\\anaconda3\\lib\\site-packages (from jsonschema>=4.19.0->chromadb>=1.0.9->langchain_chroma) (0.30.2)\n",
      "Requirement already satisfied: rpds-py>=0.7.1 in c:\\users\\sajag177350\\appdata\\local\\anaconda3\\lib\\site-packages (from jsonschema>=4.19.0->chromadb>=1.0.9->langchain_chroma) (0.10.6)\n",
      "Requirement already satisfied: six>=1.9.0 in c:\\users\\sajag177350\\appdata\\local\\anaconda3\\lib\\site-packages (from kubernetes>=28.1.0->chromadb>=1.0.9->langchain_chroma) (1.16.0)\n",
      "Requirement already satisfied: python-dateutil>=2.5.3 in c:\\users\\sajag177350\\appdata\\local\\anaconda3\\lib\\site-packages (from kubernetes>=28.1.0->chromadb>=1.0.9->langchain_chroma) (2.9.0.post0)\n",
      "Requirement already satisfied: websocket-client!=0.40.0,!=0.41.*,!=0.42.*,>=0.32.0 in c:\\users\\sajag177350\\appdata\\local\\anaconda3\\lib\\site-packages (from kubernetes>=28.1.0->chromadb>=1.0.9->langchain_chroma) (1.8.0)\n",
      "Collecting requests-oauthlib (from kubernetes>=28.1.0->chromadb>=1.0.9->langchain_chroma)\n",
      "  Downloading requests_oauthlib-2.0.0-py2.py3-none-any.whl.metadata (11 kB)\n",
      "Collecting oauthlib>=3.2.2 (from kubernetes>=28.1.0->chromadb>=1.0.9->langchain_chroma)\n",
      "  Downloading oauthlib-3.3.1-py3-none-any.whl.metadata (7.9 kB)\n",
      "Requirement already satisfied: urllib3>=1.24.2 in c:\\users\\sajag177350\\appdata\\local\\anaconda3\\lib\\site-packages (from kubernetes>=28.1.0->chromadb>=1.0.9->langchain_chroma) (2.2.3)\n",
      "Collecting durationpy>=0.7 (from kubernetes>=28.1.0->chromadb>=1.0.9->langchain_chroma)\n",
      "  Downloading durationpy-0.10-py3-none-any.whl.metadata (340 bytes)\n",
      "Requirement already satisfied: requests-toolbelt<2.0.0,>=1.0.0 in c:\\users\\sajag177350\\appdata\\local\\anaconda3\\lib\\site-packages (from langsmith>=0.3.45->langchain-core<0.4.0,>=0.3.68->langchain_google_genai) (1.0.0)\n",
      "Requirement already satisfied: zstandard<0.24.0,>=0.23.0 in c:\\users\\sajag177350\\appdata\\local\\anaconda3\\lib\\site-packages (from langsmith>=0.3.45->langchain-core<0.4.0,>=0.3.68->langchain_google_genai) (0.23.0)\n",
      "Collecting coloredlogs (from onnxruntime>=1.14.1->chromadb>=1.0.9->langchain_chroma)\n",
      "  Downloading coloredlogs-15.0.1-py2.py3-none-any.whl.metadata (12 kB)\n",
      "Collecting flatbuffers (from onnxruntime>=1.14.1->chromadb>=1.0.9->langchain_chroma)\n",
      "  Downloading flatbuffers-25.2.10-py2.py3-none-any.whl.metadata (875 bytes)\n",
      "Requirement already satisfied: sympy in c:\\users\\sajag177350\\appdata\\local\\anaconda3\\lib\\site-packages (from onnxruntime>=1.14.1->chromadb>=1.0.9->langchain_chroma) (1.14.0)\n",
      "Requirement already satisfied: importlib-metadata<8.8.0,>=6.0 in c:\\users\\sajag177350\\appdata\\local\\anaconda3\\lib\\site-packages (from opentelemetry-api>=1.2.0->chromadb>=1.0.9->langchain_chroma) (7.0.1)\n",
      "Collecting opentelemetry-exporter-otlp-proto-common==1.35.0 (from opentelemetry-exporter-otlp-proto-grpc>=1.2.0->chromadb>=1.0.9->langchain_chroma)\n",
      "  Downloading opentelemetry_exporter_otlp_proto_common-1.35.0-py3-none-any.whl.metadata (1.8 kB)\n",
      "Collecting opentelemetry-proto==1.35.0 (from opentelemetry-exporter-otlp-proto-grpc>=1.2.0->chromadb>=1.0.9->langchain_chroma)\n",
      "  Downloading opentelemetry_proto-1.35.0-py3-none-any.whl.metadata (2.3 kB)\n",
      "Collecting opentelemetry-semantic-conventions==0.56b0 (from opentelemetry-sdk>=1.2.0->chromadb>=1.0.9->langchain_chroma)\n",
      "  Downloading opentelemetry_semantic_conventions-0.56b0-py3-none-any.whl.metadata (2.4 kB)\n",
      "Collecting backoff>=1.10.0 (from posthog<6.0.0,>=2.4.0->chromadb>=1.0.9->langchain_chroma)\n",
      "  Downloading backoff-2.2.1-py3-none-any.whl.metadata (14 kB)\n",
      "Requirement already satisfied: distro>=1.5.0 in c:\\users\\sajag177350\\appdata\\local\\anaconda3\\lib\\site-packages (from posthog<6.0.0,>=2.4.0->chromadb>=1.0.9->langchain_chroma) (1.9.0)\n",
      "Requirement already satisfied: markdown-it-py>=2.2.0 in c:\\users\\sajag177350\\appdata\\local\\anaconda3\\lib\\site-packages (from rich>=10.11.0->chromadb>=1.0.9->langchain_chroma) (2.2.0)\n",
      "Requirement already satisfied: pygments<3.0.0,>=2.13.0 in c:\\users\\sajag177350\\appdata\\local\\anaconda3\\lib\\site-packages (from rich>=10.11.0->chromadb>=1.0.9->langchain_chroma) (2.15.1)\n",
      "Requirement already satisfied: huggingface-hub<1.0,>=0.16.4 in c:\\users\\sajag177350\\appdata\\local\\anaconda3\\lib\\site-packages (from tokenizers>=0.13.2->chromadb>=1.0.9->langchain_chroma) (0.33.4)\n",
      "Requirement already satisfied: click>=8.0.0 in c:\\users\\sajag177350\\appdata\\local\\anaconda3\\lib\\site-packages (from typer>=0.9.0->chromadb>=1.0.9->langchain_chroma) (8.1.7)\n",
      "Collecting shellingham>=1.3.0 (from typer>=0.9.0->chromadb>=1.0.9->langchain_chroma)\n",
      "  Downloading shellingham-1.5.4-py2.py3-none-any.whl.metadata (3.5 kB)\n",
      "Collecting httptools>=0.6.3 (from uvicorn[standard]>=0.18.3->chromadb>=1.0.9->langchain_chroma)\n",
      "  Downloading httptools-0.6.4-cp312-cp312-win_amd64.whl.metadata (3.7 kB)\n",
      "Requirement already satisfied: python-dotenv>=0.13 in c:\\users\\sajag177350\\appdata\\local\\anaconda3\\lib\\site-packages (from uvicorn[standard]>=0.18.3->chromadb>=1.0.9->langchain_chroma) (0.21.0)\n",
      "Collecting watchfiles>=0.13 (from uvicorn[standard]>=0.18.3->chromadb>=1.0.9->langchain_chroma)\n",
      "  Downloading watchfiles-1.1.0-cp312-cp312-win_amd64.whl.metadata (5.0 kB)\n",
      "Requirement already satisfied: websockets>=10.4 in c:\\users\\sajag177350\\appdata\\local\\anaconda3\\lib\\site-packages (from uvicorn[standard]>=0.18.3->chromadb>=1.0.9->langchain_chroma) (15.0.1)\n",
      "Requirement already satisfied: filelock in c:\\users\\sajag177350\\appdata\\local\\anaconda3\\lib\\site-packages (from huggingface-hub<1.0,>=0.16.4->tokenizers>=0.13.2->chromadb>=1.0.9->langchain_chroma) (3.13.1)\n",
      "Requirement already satisfied: fsspec>=2023.5.0 in c:\\users\\sajag177350\\appdata\\local\\anaconda3\\lib\\site-packages (from huggingface-hub<1.0,>=0.16.4->tokenizers>=0.13.2->chromadb>=1.0.9->langchain_chroma) (2024.6.1)\n",
      "Requirement already satisfied: zipp>=0.5 in c:\\users\\sajag177350\\appdata\\local\\anaconda3\\lib\\site-packages (from importlib-metadata<8.8.0,>=6.0->opentelemetry-api>=1.2.0->chromadb>=1.0.9->langchain_chroma) (3.17.0)\n",
      "Requirement already satisfied: mdurl~=0.1 in c:\\users\\sajag177350\\appdata\\local\\anaconda3\\lib\\site-packages (from markdown-it-py>=2.2.0->rich>=10.11.0->chromadb>=1.0.9->langchain_chroma) (0.1.0)\n",
      "Requirement already satisfied: pyasn1<0.5.0,>=0.4.6 in c:\\users\\sajag177350\\appdata\\local\\anaconda3\\lib\\site-packages (from pyasn1-modules>=0.2.1->google-auth!=2.24.0,!=2.25.0,<3.0.0,>=2.14.1->google-ai-generativelanguage<0.7.0,>=0.6.18->langchain_google_genai) (0.4.8)\n",
      "Requirement already satisfied: charset-normalizer<4,>=2 in c:\\users\\sajag177350\\appdata\\local\\anaconda3\\lib\\site-packages (from requests<3.0.0,>=2.18.0->google-api-core!=2.0.*,!=2.1.*,!=2.10.*,!=2.2.*,!=2.3.*,!=2.4.*,!=2.5.*,!=2.6.*,!=2.7.*,!=2.8.*,!=2.9.*,<3.0.0,>=1.34.1->google-api-core[grpc]!=2.0.*,!=2.1.*,!=2.10.*,!=2.2.*,!=2.3.*,!=2.4.*,!=2.5.*,!=2.6.*,!=2.7.*,!=2.8.*,!=2.9.*,<3.0.0,>=1.34.1->google-ai-generativelanguage<0.7.0,>=0.6.18->langchain_google_genai) (3.3.2)\n",
      "Requirement already satisfied: sniffio>=1.1 in c:\\users\\sajag177350\\appdata\\local\\anaconda3\\lib\\site-packages (from anyio->httpx>=0.27.0->chromadb>=1.0.9->langchain_chroma) (1.3.0)\n",
      "Collecting humanfriendly>=9.1 (from coloredlogs->onnxruntime>=1.14.1->chromadb>=1.0.9->langchain_chroma)\n",
      "  Downloading humanfriendly-10.0-py2.py3-none-any.whl.metadata (9.2 kB)\n",
      "Requirement already satisfied: mpmath<1.4,>=1.1.0 in c:\\users\\sajag177350\\appdata\\local\\anaconda3\\lib\\site-packages (from sympy->onnxruntime>=1.14.1->chromadb>=1.0.9->langchain_chroma) (1.3.0)\n",
      "Collecting pyreadline3 (from humanfriendly>=9.1->coloredlogs->onnxruntime>=1.14.1->chromadb>=1.0.9->langchain_chroma)\n",
      "  Downloading pyreadline3-3.5.4-py3-none-any.whl.metadata (4.7 kB)\n",
      "Downloading langchain_google_genai-2.1.7-py3-none-any.whl (47 kB)\n",
      "Downloading langchain_chroma-0.2.4-py3-none-any.whl (11 kB)\n",
      "Downloading chromadb-1.0.15-cp39-abi3-win_amd64.whl (19.5 MB)\n",
      "   ---------------------------------------- 0.0/19.5 MB ? eta -:--:--\n",
      "   --- ------------------------------------ 1.8/19.5 MB 11.2 MB/s eta 0:00:02\n",
      "   -------- ------------------------------- 4.2/19.5 MB 11.0 MB/s eta 0:00:02\n",
      "   ------------- -------------------------- 6.6/19.5 MB 10.9 MB/s eta 0:00:02\n",
      "   ---------------- ----------------------- 8.1/19.5 MB 10.3 MB/s eta 0:00:02\n",
      "   --------------------- ------------------ 10.5/19.5 MB 10.4 MB/s eta 0:00:01\n",
      "   ------------------------- -------------- 12.6/19.5 MB 10.5 MB/s eta 0:00:01\n",
      "   ------------------------------ --------- 14.9/19.5 MB 10.7 MB/s eta 0:00:01\n",
      "   ----------------------------------- ---- 17.3/19.5 MB 10.7 MB/s eta 0:00:01\n",
      "   ---------------------------------------  19.4/19.5 MB 10.7 MB/s eta 0:00:01\n",
      "   ---------------------------------------- 19.5/19.5 MB 10.1 MB/s eta 0:00:00\n",
      "Downloading filetype-1.2.0-py2.py3-none-any.whl (19 kB)\n",
      "Downloading google_ai_generativelanguage-0.6.18-py3-none-any.whl (1.4 MB)\n",
      "   ---------------------------------------- 0.0/1.4 MB ? eta -:--:--\n",
      "   ---------------------------------------- 1.4/1.4 MB 10.2 MB/s eta 0:00:00\n",
      "Downloading langchain_core-0.3.68-py3-none-any.whl (441 kB)\n",
      "Downloading bcrypt-4.3.0-cp39-abi3-win_amd64.whl (152 kB)\n",
      "Downloading build-1.2.2.post1-py3-none-any.whl (22 kB)\n",
      "Downloading kubernetes-33.1.0-py2.py3-none-any.whl (1.9 MB)\n",
      "   ---------------------------------------- 0.0/1.9 MB ? eta -:--:--\n",
      "   ---------------------------------------- 1.9/1.9 MB 9.8 MB/s eta 0:00:00\n",
      "Downloading langsmith-0.4.5-py3-none-any.whl (367 kB)\n",
      "Downloading mmh3-5.1.0-cp312-cp312-win_amd64.whl (41 kB)\n",
      "Downloading onnxruntime-1.22.1-cp312-cp312-win_amd64.whl (12.7 MB)\n",
      "   ---------------------------------------- 0.0/12.7 MB ? eta -:--:--\n",
      "   ------ --------------------------------- 2.1/12.7 MB 10.7 MB/s eta 0:00:01\n",
      "   -------------- ------------------------- 4.5/12.7 MB 11.2 MB/s eta 0:00:01\n",
      "   -------------------- ------------------- 6.6/12.7 MB 10.6 MB/s eta 0:00:01\n",
      "   --------------------------- ------------ 8.7/12.7 MB 10.7 MB/s eta 0:00:01\n",
      "   --------------------------------- ------ 10.7/12.7 MB 10.8 MB/s eta 0:00:01\n",
      "   -------------------------------------- - 12.1/12.7 MB 9.9 MB/s eta 0:00:01\n",
      "   ---------------------------------------- 12.7/12.7 MB 9.0 MB/s eta 0:00:00\n",
      "Downloading opentelemetry_api-1.35.0-py3-none-any.whl (65 kB)\n",
      "Downloading opentelemetry_exporter_otlp_proto_grpc-1.35.0-py3-none-any.whl (18 kB)\n",
      "Downloading opentelemetry_exporter_otlp_proto_common-1.35.0-py3-none-any.whl (18 kB)\n",
      "Downloading opentelemetry_proto-1.35.0-py3-none-any.whl (72 kB)\n",
      "Downloading opentelemetry_sdk-1.35.0-py3-none-any.whl (119 kB)\n",
      "Downloading opentelemetry_semantic_conventions-0.56b0-py3-none-any.whl (201 kB)\n",
      "Downloading orjson-3.10.18-cp312-cp312-win_amd64.whl (134 kB)\n",
      "Downloading posthog-5.4.0-py3-none-any.whl (105 kB)\n",
      "Downloading pybase64-1.4.1-cp312-cp312-win_amd64.whl (36 kB)\n",
      "Downloading typer-0.16.0-py3-none-any.whl (46 kB)\n",
      "Downloading uvicorn-0.35.0-py3-none-any.whl (66 kB)\n",
      "Downloading importlib_resources-6.5.2-py3-none-any.whl (37 kB)\n",
      "Downloading backoff-2.2.1-py3-none-any.whl (15 kB)\n",
      "Downloading durationpy-0.10-py3-none-any.whl (3.9 kB)\n",
      "Downloading httptools-0.6.4-cp312-cp312-win_amd64.whl (88 kB)\n",
      "Downloading oauthlib-3.3.1-py3-none-any.whl (160 kB)\n",
      "Downloading shellingham-1.5.4-py2.py3-none-any.whl (9.8 kB)\n",
      "Downloading watchfiles-1.1.0-cp312-cp312-win_amd64.whl (292 kB)\n",
      "Downloading coloredlogs-15.0.1-py2.py3-none-any.whl (46 kB)\n",
      "Downloading flatbuffers-25.2.10-py2.py3-none-any.whl (30 kB)\n",
      "Downloading pyproject_hooks-1.2.0-py3-none-any.whl (10 kB)\n",
      "Downloading requests_oauthlib-2.0.0-py2.py3-none-any.whl (24 kB)\n",
      "Downloading humanfriendly-10.0-py2.py3-none-any.whl (86 kB)\n",
      "Downloading pyreadline3-3.5.4-py3-none-any.whl (83 kB)\n",
      "Building wheels for collected packages: pypika\n",
      "  Building wheel for pypika (pyproject.toml): started\n",
      "  Building wheel for pypika (pyproject.toml): finished with status 'done'\n",
      "  Created wheel for pypika: filename=pypika-0.48.9-py2.py3-none-any.whl size=53916 sha256=8d7e27caf3a2bcfdad8c9393d6a56f6f25731e421ee89b4fda9afa5227fbab27\n",
      "  Stored in directory: c:\\users\\sajag177350\\appdata\\local\\pip\\cache\\wheels\\d5\\3d\\69\\8d68d249cd3de2584f226e27fd431d6344f7d70fd856ebd01b\n",
      "Successfully built pypika\n",
      "Installing collected packages: pypika, flatbuffers, filetype, durationpy, shellingham, pyreadline3, pyproject_hooks, pybase64, orjson, opentelemetry-proto, oauthlib, mmh3, importlib-resources, httptools, bcrypt, backoff, watchfiles, uvicorn, requests-oauthlib, posthog, opentelemetry-exporter-otlp-proto-common, opentelemetry-api, humanfriendly, build, typer, opentelemetry-semantic-conventions, langsmith, kubernetes, coloredlogs, opentelemetry-sdk, onnxruntime, langchain-core, opentelemetry-exporter-otlp-proto-grpc, google-ai-generativelanguage, langchain_google_genai, chromadb, langchain_chroma\n",
      "  Attempting uninstall: bcrypt\n",
      "    Found existing installation: bcrypt 3.2.0\n",
      "    Uninstalling bcrypt-3.2.0:\n",
      "      Successfully uninstalled bcrypt-3.2.0\n",
      "  Attempting uninstall: google-ai-generativelanguage\n",
      "    Found existing installation: google-ai-generativelanguage 0.6.15\n",
      "    Uninstalling google-ai-generativelanguage-0.6.15:\n",
      "      Successfully uninstalled google-ai-generativelanguage-0.6.15\n",
      "Successfully installed backoff-2.2.1 bcrypt-4.3.0 build-1.2.2.post1 chromadb-1.0.15 coloredlogs-15.0.1 durationpy-0.10 filetype-1.2.0 flatbuffers-25.2.10 google-ai-generativelanguage-0.6.18 httptools-0.6.4 humanfriendly-10.0 importlib-resources-6.5.2 kubernetes-33.1.0 langchain-core-0.3.68 langchain_chroma-0.2.4 langchain_google_genai-2.1.7 langsmith-0.4.5 mmh3-5.1.0 oauthlib-3.3.1 onnxruntime-1.22.1 opentelemetry-api-1.35.0 opentelemetry-exporter-otlp-proto-common-1.35.0 opentelemetry-exporter-otlp-proto-grpc-1.35.0 opentelemetry-proto-1.35.0 opentelemetry-sdk-1.35.0 opentelemetry-semantic-conventions-0.56b0 orjson-3.10.18 posthog-5.4.0 pybase64-1.4.1 pypika-0.48.9 pyproject_hooks-1.2.0 pyreadline3-3.5.4 requests-oauthlib-2.0.0 shellingham-1.5.4 typer-0.16.0 uvicorn-0.35.0 watchfiles-1.1.0\n"
     ]
    },
    {
     "name": "stderr",
     "output_type": "stream",
     "text": [
      "  WARNING: Failed to remove contents in a temporary directory 'C:\\Users\\sajag177350\\AppData\\Local\\anaconda3\\Lib\\site-packages\\~crypt'.\n",
      "  You can safely remove it manually.\n",
      "ERROR: pip's dependency resolver does not currently take into account all the packages that are installed. This behaviour is the source of the following dependency conflicts.\n",
      "google-generativeai 0.8.5 requires google-ai-generativelanguage==0.6.15, but you have google-ai-generativelanguage 0.6.18 which is incompatible.\n"
     ]
    }
   ],
   "source": [
    "#Connecting to langchain\n",
    "!pip install langchain_google_genai langchain_chroma"
   ]
  },
  {
   "cell_type": "code",
   "execution_count": 2,
   "id": "12931e82-5055-42e2-a047-db13a636edd2",
   "metadata": {},
   "outputs": [
    {
     "name": "stdin",
     "output_type": "stream",
     "text": [
      "Enter API key for Google Gemini:  ········\n"
     ]
    }
   ],
   "source": [
    "from langchain_google_genai import GoogleGenerativeAIEmbeddings\n",
    "from langchain_chroma import Chroma\n",
    "import os\n",
    "import getpass\n",
    "if not os.environ.get(\"GOOGLE_API_KEY\"):\n",
    "  os.environ[\"GOOGLE_API_KEY\"] = getpass.getpass(\"Enter API key for Google Gemini: \")"
   ]
  },
  {
   "cell_type": "code",
   "execution_count": 5,
   "id": "09918dcd-08fc-45e6-ae3d-43f6dbc3eef9",
   "metadata": {},
   "outputs": [],
   "source": [
    "#Setting Embeddings model and Vector DB - Here, we create a chroma, langchain and db directory - done using embedding 001 model\n",
    "embeddings = GoogleGenerativeAIEmbeddings(model=\"models/embedding-001\")\n",
    "vector_store = Chroma(\n",
    "    collection_name=\"example_collection\",\n",
    "    embedding_function=embeddings,\n",
    "    persist_directory=\"./chroma_langchain_db\",  # Where to save data locally, remove if not necessary\n",
    ")"
   ]
  },
  {
   "cell_type": "code",
   "execution_count": 7,
   "id": "f8106922-a355-4fd0-b565-75a1898c8007",
   "metadata": {},
   "outputs": [],
   "source": [
    "#chroma - sqlite 3 gets created\n",
    "# Now, lets add custom text to vector"
   ]
  },
  {
   "cell_type": "code",
   "execution_count": 8,
   "id": "1bc9f7c8-2760-4e46-b4c0-c5e1ae8a166d",
   "metadata": {},
   "outputs": [
    {
     "name": "stdout",
     "output_type": "stream",
     "text": [
      "['c021c8d5-cd0a-4352-88e4-8721eb50866b', 'c5a5664c-1e97-415e-987e-316eb52ecc2a', '6eb045ad-e808-4a9b-b396-1eaff343f4d8', '72858999-799f-4787-b9e2-79ac4ce6ed49']\n"
     ]
    }
   ],
   "source": [
    "test = [\"changing my password\",\"Resetting logincredentials\",\"Modify accountaccess info\",\"how are you?\"]\n",
    "print(vector_store.add_texts(test))"
   ]
  },
  {
   "cell_type": "code",
   "execution_count": 11,
   "id": "7ed8d2fa-aac6-46b4-a27a-ce45305a403c",
   "metadata": {},
   "outputs": [
    {
     "data": {
      "text/plain": [
       "[Document(id='6eb045ad-e808-4a9b-b396-1eaff343f4d8', metadata={}, page_content='Modify accountaccess info'),\n",
       " Document(id='c5a5664c-1e97-415e-987e-316eb52ecc2a', metadata={}, page_content='Resetting logincredentials')]"
      ]
     },
     "execution_count": 11,
     "metadata": {},
     "output_type": "execute_result"
    }
   ],
   "source": [
    "# Now, we have created most important words\n",
    "#now, we will sementic search on to the chroma database\n",
    "#k=3 gives top 3 results\n",
    "retrieved_docs = vector_store.similarity_search(\"access\",k=2)\n",
    "retrieved_docs"
   ]
  },
  {
   "cell_type": "code",
   "execution_count": 15,
   "id": "897bc270-9fb8-471e-a129-aa2616c5accb",
   "metadata": {},
   "outputs": [
    {
     "name": "stdout",
     "output_type": "stream",
     "text": [
      "['fcb0c7a6-4cb8-413b-93ee-f2eda460b458', '8c92c495-5a76-400d-ab0c-366d283333aa', 'f35cdda5-3c0b-42fc-912d-7acab013a3af', '6898b2ee-3e86-4ba7-8143-471e6d272d9e']\n"
     ]
    }
   ],
   "source": [
    "#Storing Data with Metadata\n",
    "from langchain_core.documents import Document\n",
    "test = [Document(page_content=\"who are you.\", metadata={\"Topic\":\"other\"}),Document(page_content=\"MLOps is best.\", metadata={\"Topic\":\"AI\"}),Document(page_content=\"AI is Awesome.\", metadata={\"Topic\":\"AI\"}),Document(page_content=\"AI Use NLP.\", metadata={\"Topic\":\"AI\"})]\n",
    "print(vector_store.add_documents(documents=test))"
   ]
  },
  {
   "cell_type": "code",
   "execution_count": 17,
   "id": "7d8ac932-7d94-4589-8948-82f7f717adcf",
   "metadata": {},
   "outputs": [
    {
     "data": {
      "text/plain": [
       "[Document(id='f35cdda5-3c0b-42fc-912d-7acab013a3af', metadata={'Topic': 'AI'}, page_content='AI is Awesome.'),\n",
       " Document(id='6898b2ee-3e86-4ba7-8143-471e6d272d9e', metadata={'Topic': 'AI'}, page_content='AI Use NLP.'),\n",
       " Document(id='8c92c495-5a76-400d-ab0c-366d283333aa', metadata={'Topic': 'AI'}, page_content='MLOps is best.')]"
      ]
     },
     "execution_count": 17,
     "metadata": {},
     "output_type": "execute_result"
    }
   ],
   "source": [
    "#Sementic Search with filter\n",
    "\n",
    "retrieved_docs = vector_store.similarity_search(\"machine learning\",k=4,filter={\"Topic\": {\"$eq\":'AI'}})\n",
    "retrieved_docs"
   ]
  },
  {
   "cell_type": "code",
   "execution_count": 18,
   "id": "190c9ab3-2b2d-4fab-b75c-d861297ed5f0",
   "metadata": {},
   "outputs": [
    {
     "name": "stdout",
     "output_type": "stream",
     "text": [
      "{'ids': ['c021c8d5-cd0a-4352-88e4-8721eb50866b', 'c5a5664c-1e97-415e-987e-316eb52ecc2a', '6eb045ad-e808-4a9b-b396-1eaff343f4d8', '72858999-799f-4787-b9e2-79ac4ce6ed49', 'fcb0c7a6-4cb8-413b-93ee-f2eda460b458', '8c92c495-5a76-400d-ab0c-366d283333aa', 'f35cdda5-3c0b-42fc-912d-7acab013a3af', '6898b2ee-3e86-4ba7-8143-471e6d272d9e'], 'embeddings': array([[ 0.02146408, -0.0044333 , -0.07722433, ..., -0.00190652,\n",
      "        -0.0363469 ,  0.01991668],\n",
      "       [ 0.04144152,  0.00651161, -0.06767381, ...,  0.01598457,\n",
      "        -0.05439175,  0.03736488],\n",
      "       [ 0.04380333, -0.00401537, -0.05212243, ...,  0.00493329,\n",
      "        -0.05253086,  0.04115017],\n",
      "       ...,\n",
      "       [ 0.06055159, -0.00900685, -0.04989437, ...,  0.01935475,\n",
      "         0.0053391 ,  0.02632103],\n",
      "       [ 0.01296441, -0.01006378, -0.0643553 , ...,  0.00402813,\n",
      "        -0.02100904,  0.04377606],\n",
      "       [ 0.02813264, -0.03545972, -0.0587563 , ...,  0.01974024,\n",
      "        -0.02300814,  0.05231528]]), 'documents': ['changing my password', 'Resetting logincredentials', 'Modify accountaccess info', 'how are you?', 'who are you.', 'MLOps is best.', 'AI is Awesome.', 'AI Use NLP.'], 'uris': None, 'included': ['documents', 'embeddings', 'metadatas'], 'data': None, 'metadatas': [None, None, None, None, {'Topic': 'other'}, {'Topic': 'AI'}, {'Topic': 'AI'}, {'Topic': 'AI'}]}\n"
     ]
    }
   ],
   "source": [
    "all_docs = vector_store.get(include=[\"documents\", \"embeddings\", \"metadatas\"])\n",
    "print(all_docs)"
   ]
  },
  {
   "cell_type": "code",
   "execution_count": 19,
   "id": "dae96257-db9b-4b09-ba0e-b3ac0a93edea",
   "metadata": {},
   "outputs": [
    {
     "data": {
      "text/html": [
       "<div>\n",
       "<style scoped>\n",
       "    .dataframe tbody tr th:only-of-type {\n",
       "        vertical-align: middle;\n",
       "    }\n",
       "\n",
       "    .dataframe tbody tr th {\n",
       "        vertical-align: top;\n",
       "    }\n",
       "\n",
       "    .dataframe thead th {\n",
       "        text-align: right;\n",
       "    }\n",
       "</style>\n",
       "<table border=\"1\" class=\"dataframe\">\n",
       "  <thead>\n",
       "    <tr style=\"text-align: right;\">\n",
       "      <th></th>\n",
       "      <th>ID</th>\n",
       "      <th>Text</th>\n",
       "      <th>Metadata</th>\n",
       "      <th>Embedding (truncated)</th>\n",
       "    </tr>\n",
       "  </thead>\n",
       "  <tbody>\n",
       "    <tr>\n",
       "      <th>0</th>\n",
       "      <td>c021c8d5-cd0a-4352-88e4-8721eb50866b</td>\n",
       "      <td>changing my password</td>\n",
       "      <td>None</td>\n",
       "      <td>[0.02146407775580883, -0.004433295223861933, -...</td>\n",
       "    </tr>\n",
       "    <tr>\n",
       "      <th>1</th>\n",
       "      <td>c5a5664c-1e97-415e-987e-316eb52ecc2a</td>\n",
       "      <td>Resetting logincredentials</td>\n",
       "      <td>None</td>\n",
       "      <td>[0.04144152253866196, 0.0065116118639707565, -...</td>\n",
       "    </tr>\n",
       "    <tr>\n",
       "      <th>2</th>\n",
       "      <td>6eb045ad-e808-4a9b-b396-1eaff343f4d8</td>\n",
       "      <td>Modify accountaccess info</td>\n",
       "      <td>None</td>\n",
       "      <td>[0.04380333423614502, -0.004015367012470961, -...</td>\n",
       "    </tr>\n",
       "    <tr>\n",
       "      <th>3</th>\n",
       "      <td>72858999-799f-4787-b9e2-79ac4ce6ed49</td>\n",
       "      <td>how are you?</td>\n",
       "      <td>None</td>\n",
       "      <td>[0.04195541888475418, 0.008283206261694431, -0...</td>\n",
       "    </tr>\n",
       "    <tr>\n",
       "      <th>4</th>\n",
       "      <td>fcb0c7a6-4cb8-413b-93ee-f2eda460b458</td>\n",
       "      <td>who are you.</td>\n",
       "      <td>{'Topic': 'other'}</td>\n",
       "      <td>[0.03634915128350258, 0.00030515631078742445, ...</td>\n",
       "    </tr>\n",
       "    <tr>\n",
       "      <th>5</th>\n",
       "      <td>8c92c495-5a76-400d-ab0c-366d283333aa</td>\n",
       "      <td>MLOps is best.</td>\n",
       "      <td>{'Topic': 'AI'}</td>\n",
       "      <td>[0.060551587492227554, -0.009006849490106106, ...</td>\n",
       "    </tr>\n",
       "    <tr>\n",
       "      <th>6</th>\n",
       "      <td>f35cdda5-3c0b-42fc-912d-7acab013a3af</td>\n",
       "      <td>AI is Awesome.</td>\n",
       "      <td>{'Topic': 'AI'}</td>\n",
       "      <td>[0.012964408844709396, -0.010063780471682549, ...</td>\n",
       "    </tr>\n",
       "    <tr>\n",
       "      <th>7</th>\n",
       "      <td>6898b2ee-3e86-4ba7-8143-471e6d272d9e</td>\n",
       "      <td>AI Use NLP.</td>\n",
       "      <td>{'Topic': 'AI'}</td>\n",
       "      <td>[0.028132636100053787, -0.0354597233235836, -0...</td>\n",
       "    </tr>\n",
       "  </tbody>\n",
       "</table>\n",
       "</div>"
      ],
      "text/plain": [
       "                                     ID                        Text  \\\n",
       "0  c021c8d5-cd0a-4352-88e4-8721eb50866b        changing my password   \n",
       "1  c5a5664c-1e97-415e-987e-316eb52ecc2a  Resetting logincredentials   \n",
       "2  6eb045ad-e808-4a9b-b396-1eaff343f4d8   Modify accountaccess info   \n",
       "3  72858999-799f-4787-b9e2-79ac4ce6ed49                how are you?   \n",
       "4  fcb0c7a6-4cb8-413b-93ee-f2eda460b458                who are you.   \n",
       "5  8c92c495-5a76-400d-ab0c-366d283333aa              MLOps is best.   \n",
       "6  f35cdda5-3c0b-42fc-912d-7acab013a3af              AI is Awesome.   \n",
       "7  6898b2ee-3e86-4ba7-8143-471e6d272d9e                 AI Use NLP.   \n",
       "\n",
       "             Metadata                              Embedding (truncated)  \n",
       "0                None  [0.02146407775580883, -0.004433295223861933, -...  \n",
       "1                None  [0.04144152253866196, 0.0065116118639707565, -...  \n",
       "2                None  [0.04380333423614502, -0.004015367012470961, -...  \n",
       "3                None  [0.04195541888475418, 0.008283206261694431, -0...  \n",
       "4  {'Topic': 'other'}  [0.03634915128350258, 0.00030515631078742445, ...  \n",
       "5     {'Topic': 'AI'}  [0.060551587492227554, -0.009006849490106106, ...  \n",
       "6     {'Topic': 'AI'}  [0.012964408844709396, -0.010063780471682549, ...  \n",
       "7     {'Topic': 'AI'}  [0.028132636100053787, -0.0354597233235836, -0...  "
      ]
     },
     "execution_count": 19,
     "metadata": {},
     "output_type": "execute_result"
    }
   ],
   "source": [
    "import pandas as pd\n",
    "\n",
    "df = pd.DataFrame({\n",
    "    \"ID\": all_docs[\"ids\"],\n",
    "    \"Text\": all_docs[\"documents\"],\n",
    "    \"Metadata\": all_docs[\"metadatas\"],\n",
    "    \"Embedding (truncated)\": [vec[:5] if vec is not None else None for vec in all_docs[\"embeddings\"]]\n",
    "\n",
    "})\n",
    "\n",
    "df"
   ]
  },
  {
   "cell_type": "code",
   "execution_count": 20,
   "id": "a9b63c23-66e4-4f55-a20e-224a8dafaeca",
   "metadata": {},
   "outputs": [],
   "source": [
    "import numpy as np\n",
    "import matplotlib.pyplot as plt\n",
    "from sklearn.manifold import TSNE\n",
    "from sklearn.decomposition import PCA"
   ]
  },
  {
   "cell_type": "code",
   "execution_count": 21,
   "id": "a8135af3-4771-42ca-97ff-dd142a5fe4dd",
   "metadata": {},
   "outputs": [],
   "source": [
    "#Extract embeddings and labels from all_docs:\n",
    "# Ensure embeddings are not None\n",
    "embeddings = [vec for vec in all_docs[\"embeddings\"] if vec is not None]\n",
    "labels = [doc[:30] + \"...\" for doc, vec in zip(all_docs[\"documents\"], all_docs[\"embeddings\"]) if vec is not None]\n",
    "\n",
    "# Convert to NumPy array\n",
    "embedding_array = np.array(embeddings)"
   ]
  },
  {
   "cell_type": "code",
   "execution_count": 22,
   "id": "520756de-868b-47e5-88b1-7f13e6bb7e2b",
   "metadata": {},
   "outputs": [
    {
     "data": {
      "image/png": "[encoded data removed]",
      "text/plain": [
       "<Figure size 1000x600 with 1 Axes>"
      ]
     },
     "metadata": {},
     "output_type": "display_data"
    }
   ],
   "source": [
    "#2D Visualization\n",
    "pca = PCA(n_components=2)\n",
    "pca_result = pca.fit_transform(embedding_array)\n",
    "\n",
    "plt.figure(figsize=(10, 6))\n",
    "plt.scatter(pca_result[:, 0], pca_result[:, 1], c='skyblue')\n",
    "\n",
    "for i, label in enumerate(labels):\n",
    "    plt.annotate(label, (pca_result[i, 0], pca_result[i, 1]))\n",
    "\n",
    "plt.title(\"PCA: Word Embedding Visualization\")\n",
    "plt.xlabel(\"PCA 1\")\n",
    "plt.ylabel(\"PCA 2\")\n",
    "plt.grid(True)\n",
    "plt.show()"
   ]
  },
  {
   "cell_type": "code",
   "execution_count": null,
   "id": "4b096724-5295-4818-8a85-b7dbf1276311",
   "metadata": {},
   "outputs": [],
   "source": []
  }
 ],
 "metadata": {
  "kernelspec": {
   "display_name": "Python 3 (ipykernel)",
   "language": "python",
   "name": "python3"
  },
  "language_info": {
   "codemirror_mode": {
    "name": "ipython",
    "version": 3
   },
   "file_extension": ".py",
   "mimetype": "text/x-python",
   "name": "python",
   "nbconvert_exporter": "python",
   "pygments_lexer": "ipython3",
   "version": "3.12.7"
  }
 },
 "nbformat": 4,
 "nbformat_minor": 5
}
